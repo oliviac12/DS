{
 "cells": [
  {
   "cell_type": "code",
   "execution_count": 170,
   "metadata": {
    "collapsed": true
   },
   "outputs": [],
   "source": [
    "%matplotlib inline\n",
    "import pandas as pd\n",
    "\n",
    "import plotly.tools as tls\n",
    "from IPython.display import display\n",
    "import plotly.plotly as py # interactive graphing\n",
    "from plotly.graph_objs import Bar, Scatter, Marker, Layout\n",
    "from plotly import tools\n",
    "import matplotlib.pyplot as plt\n",
    "import numpy as np\n",
    "import matplotlib as mpl\n",
    "\n",
    "import plotly\n",
    "plotly.tools.set_credentials_file(username='oliviac12', api_key='rtp2rltz0x')"
   ]
  },
  {
   "cell_type": "code",
   "execution_count": 225,
   "metadata": {
    "collapsed": false
   },
   "outputs": [],
   "source": [
    "#load the table that related to click\n",
    "df_c = pd.read_csv('firstable.csv')\n",
    "df_c.columns = map(str.lower, df_c.columns)"
   ]
  },
  {
   "cell_type": "code",
   "execution_count": 220,
   "metadata": {
    "collapsed": false
   },
   "outputs": [
    {
     "data": {
      "text/plain": [
       "(481943, 15)"
      ]
     },
     "execution_count": 220,
     "metadata": {},
     "output_type": "execute_result"
    }
   ],
   "source": [
    "df_c.shape"
   ]
  },
  {
   "cell_type": "code",
   "execution_count": 4,
   "metadata": {
    "collapsed": false,
    "scrolled": true
   },
   "outputs": [
    {
     "data": {
      "text/html": [
       "<div>\n",
       "<table border=\"1\" class=\"dataframe\">\n",
       "  <thead>\n",
       "    <tr style=\"text-align: right;\">\n",
       "      <th></th>\n",
       "      <th>placement_key</th>\n",
       "      <th>country</th>\n",
       "      <th>device_category</th>\n",
       "      <th>eligible_impression_requests</th>\n",
       "      <th>total_impression_requests</th>\n",
       "      <th>filled_pages</th>\n",
       "      <th>impressions</th>\n",
       "      <th>visible_impressions</th>\n",
       "      <th>clicks</th>\n",
       "      <th>total_engagements</th>\n",
       "      <th>video_plays</th>\n",
       "      <th>autoplay_views</th>\n",
       "      <th>guaranteed_brand_safe</th>\n",
       "      <th>location_type</th>\n",
       "      <th>layout_type</th>\n",
       "    </tr>\n",
       "  </thead>\n",
       "  <tbody>\n",
       "    <tr>\n",
       "      <th>0</th>\n",
       "      <td>c1687c86</td>\n",
       "      <td>US</td>\n",
       "      <td>Smartphone</td>\n",
       "      <td>241</td>\n",
       "      <td>284</td>\n",
       "      <td>1</td>\n",
       "      <td>1</td>\n",
       "      <td>1</td>\n",
       "      <td>0</td>\n",
       "      <td>0</td>\n",
       "      <td>0</td>\n",
       "      <td>0</td>\n",
       "      <td>0</td>\n",
       "      <td>below the post</td>\n",
       "      <td>single</td>\n",
       "    </tr>\n",
       "    <tr>\n",
       "      <th>1</th>\n",
       "      <td>c1687c86</td>\n",
       "      <td>US</td>\n",
       "      <td>Tablet</td>\n",
       "      <td>9323</td>\n",
       "      <td>9410</td>\n",
       "      <td>15</td>\n",
       "      <td>15</td>\n",
       "      <td>6</td>\n",
       "      <td>0</td>\n",
       "      <td>0</td>\n",
       "      <td>0</td>\n",
       "      <td>0</td>\n",
       "      <td>0</td>\n",
       "      <td>below the post</td>\n",
       "      <td>single</td>\n",
       "    </tr>\n",
       "    <tr>\n",
       "      <th>2</th>\n",
       "      <td>c1687c86</td>\n",
       "      <td>US</td>\n",
       "      <td>Unknown</td>\n",
       "      <td>0</td>\n",
       "      <td>235</td>\n",
       "      <td>0</td>\n",
       "      <td>0</td>\n",
       "      <td>0</td>\n",
       "      <td>0</td>\n",
       "      <td>0</td>\n",
       "      <td>0</td>\n",
       "      <td>0</td>\n",
       "      <td>0</td>\n",
       "      <td>below the post</td>\n",
       "      <td>single</td>\n",
       "    </tr>\n",
       "    <tr>\n",
       "      <th>3</th>\n",
       "      <td>c16b15c0</td>\n",
       "      <td>AU</td>\n",
       "      <td>Desktop</td>\n",
       "      <td>1</td>\n",
       "      <td>1</td>\n",
       "      <td>0</td>\n",
       "      <td>0</td>\n",
       "      <td>0</td>\n",
       "      <td>0</td>\n",
       "      <td>0</td>\n",
       "      <td>0</td>\n",
       "      <td>0</td>\n",
       "      <td>1</td>\n",
       "      <td>in-feed</td>\n",
       "      <td>single</td>\n",
       "    </tr>\n",
       "    <tr>\n",
       "      <th>4</th>\n",
       "      <td>c16b15c0</td>\n",
       "      <td>CA</td>\n",
       "      <td>Desktop</td>\n",
       "      <td>64</td>\n",
       "      <td>64</td>\n",
       "      <td>4</td>\n",
       "      <td>4</td>\n",
       "      <td>2</td>\n",
       "      <td>0</td>\n",
       "      <td>0</td>\n",
       "      <td>0</td>\n",
       "      <td>0</td>\n",
       "      <td>1</td>\n",
       "      <td>in-feed</td>\n",
       "      <td>single</td>\n",
       "    </tr>\n",
       "  </tbody>\n",
       "</table>\n",
       "</div>"
      ],
      "text/plain": [
       "  placement_key country device_category  eligible_impression_requests  \\\n",
       "0      c1687c86      US      Smartphone                           241   \n",
       "1      c1687c86      US          Tablet                          9323   \n",
       "2      c1687c86      US         Unknown                             0   \n",
       "3      c16b15c0      AU         Desktop                             1   \n",
       "4      c16b15c0      CA         Desktop                            64   \n",
       "\n",
       "   total_impression_requests  filled_pages  impressions  visible_impressions  \\\n",
       "0                        284             1            1                    1   \n",
       "1                       9410            15           15                    6   \n",
       "2                        235             0            0                    0   \n",
       "3                          1             0            0                    0   \n",
       "4                         64             4            4                    2   \n",
       "\n",
       "   clicks  total_engagements  video_plays  autoplay_views  \\\n",
       "0       0                  0            0               0   \n",
       "1       0                  0            0               0   \n",
       "2       0                  0            0               0   \n",
       "3       0                  0            0               0   \n",
       "4       0                  0            0               0   \n",
       "\n",
       "   guaranteed_brand_safe   location_type layout_type  \n",
       "0                      0  below the post      single  \n",
       "1                      0  below the post      single  \n",
       "2                      0  below the post      single  \n",
       "3                      1         in-feed      single  \n",
       "4                      1         in-feed      single  "
      ]
     },
     "execution_count": 4,
     "metadata": {},
     "output_type": "execute_result"
    }
   ],
   "source": [
    "df_c.head()"
   ]
  },
  {
   "cell_type": "code",
   "execution_count": 44,
   "metadata": {
    "collapsed": false
   },
   "outputs": [
    {
     "data": {
      "text/plain": [
       "(316430, 15)"
      ]
     },
     "execution_count": 44,
     "metadata": {},
     "output_type": "execute_result"
    }
   ],
   "source": [
    "##For those ad slots that doesn't have impression served by Sharethrough\n",
    "df_ns = df_c[df_c['impressions'] == 0]\n",
    "df_ns.shape"
   ]
  },
  {
   "cell_type": "code",
   "execution_count": 45,
   "metadata": {
    "collapsed": false
   },
   "outputs": [
    {
     "data": {
      "text/plain": [
       "(165513, 15)"
      ]
     },
     "execution_count": 45,
     "metadata": {},
     "output_type": "execute_result"
    }
   ],
   "source": [
    "df_ss = df_c[df_c['impressions'] > 0]\n",
    "df_ss.shape"
   ]
  },
  {
   "cell_type": "code",
   "execution_count": 7,
   "metadata": {
    "collapsed": false
   },
   "outputs": [
    {
     "name": "stdout",
     "output_type": "stream",
     "text": [
      "          index  country_Count   share\n",
      "0   Unsupported          64769  20.47%\n",
      "1            AU          36568  11.56%\n",
      "2            FR          29263   9.25%\n",
      "3            DE          29073   9.19%\n",
      "4            IT          26470   8.37%\n",
      "5            ES          26026   8.22%\n",
      "6            GB          23669   7.48%\n",
      "7            BE          21941   6.93%\n",
      "8            CA          20294   6.41%\n",
      "9            FI          19548   6.18%\n",
      "10           US          18809   5.94%\n"
     ]
    }
   ],
   "source": [
    "country_counts = pd.DataFrame(df_ns.country.value_counts())\n",
    "country_counts = country_counts.add_suffix('_Count').reset_index()\n",
    "country_counts['share'] = (country_counts['country_Count']/float(len(df_ns))*100).round(2).astype(str) + '%'\n",
    "print country_counts\n",
    "# device_counts = pd.DataFrame(df_ns.device_category.value_counts())\n",
    "# device_counts = device_counts.add_suffix('_Count').reset_index()\n",
    "# device_counts['share'] = (device_counts['device_category_Count']/float(len(df_ns))*100).round(2).astype(str) + '%'\n",
    "# print device_counts"
   ]
  },
  {
   "cell_type": "code",
   "execution_count": 8,
   "metadata": {
    "collapsed": true
   },
   "outputs": [
    {
     "name": "stdout",
     "output_type": "stream",
     "text": [
      "  index  country_Count   share\n",
      "0    US          61941  37.42%\n",
      "1    CA          47158  28.49%\n",
      "2    GB          42390  25.61%\n",
      "3    AU           5108   3.09%\n",
      "4    DE           3857   2.33%\n",
      "5    FR           1630   0.98%\n",
      "6    ES           1031   0.62%\n",
      "7    IT            990    0.6%\n",
      "8    BE            801   0.48%\n",
      "9    FI            607   0.37%\n"
     ]
    }
   ],
   "source": [
    "ss_country_counts = pd.DataFrame(df_ss.country.value_counts())\n",
    "ss_country_counts = ss_country_counts.add_suffix('_Count').reset_index()\n",
    "ss_country_counts['share'] = (ss_country_counts['country_Count']/float(len(df_ss))*100).round(2).astype(str) + '%'\n",
    "print ss_country_counts\n",
    "# ss_device_counts = pd.DataFrame(df_ss.device_category.value_counts())\n",
    "# ss_device_counts = ss_device_counts.add_suffix('_Count').reset_index()\n",
    "# ss_device_counts['share'] = (ss_device_counts['device_category_Count']/float(len(df_ss))*100).round(2).astype(str) + '%'\n",
    "# print ss_device_counts"
   ]
  },
  {
   "cell_type": "code",
   "execution_count": 9,
   "metadata": {
    "collapsed": false
   },
   "outputs": [],
   "source": [
    "##Market Share by Country\n",
    "\n",
    "import plotly.plotly as py\n",
    "import plotly.graph_objs as go\n",
    "\n",
    "trace0 = go.Bar(\n",
    "    x=country_counts['index'].values,\n",
    "    y=country_counts.country_Count.values,\n",
    "    text=country_counts.share.values,\n",
    "    marker=dict(\n",
    "        color='rgb(61, 153, 112)',\n",
    "        line=dict(\n",
    "            color='rgb(8,48,107)',\n",
    "            width=1.5,\n",
    "        )\n",
    "    ),\n",
    "    opacity=0.6,\n",
    "    name = 'Non-Sharethrough'\n",
    ")\n",
    "trace1 = go.Bar(\n",
    "    x=ss_country_counts['index'].values,\n",
    "    y=ss_country_counts.country_Count.values,\n",
    "    text=ss_country_counts.share.values,\n",
    "    marker=dict(\n",
    "        color='rgb(0, 31, 63)',\n",
    "        line=dict(\n",
    "            color='rgb(8,48,107)',\n",
    "            width=1.5,\n",
    "        )\n",
    "    ),\n",
    "    opacity=0.6,\n",
    "    name = \"Sharesthrough\"\n",
    ")\n",
    "data = [trace0, trace1]\n",
    "# layout = go.Layout(\n",
    "#     title='2015-01-01 Market Report',\n",
    "# )\n",
    "layout = go.Layout(\n",
    "    barmode='group'\n",
    ")\n",
    "fig = go.Figure(data=data, layout=layout)\n",
    "plot_url = py.plot(fig, filename='Market share by Country')"
   ]
  },
  {
   "cell_type": "code",
   "execution_count": 230,
   "metadata": {
    "collapsed": false,
    "scrolled": true
   },
   "outputs": [
    {
     "data": {
      "text/plain": [
       "count    165486.000000\n",
       "mean          0.003158\n",
       "std           0.029942\n",
       "min           0.000000\n",
       "25%           0.000000\n",
       "50%           0.000000\n",
       "75%           0.000000\n",
       "max           1.000000\n",
       "Name: engagement_rate, dtype: float64"
      ]
     },
     "execution_count": 230,
     "metadata": {},
     "output_type": "execute_result"
    }
   ],
   "source": [
    "#fill rate\n",
    "df_ss['fill_rate'] = df_ss['filled_pages']/df_ss['total_impression_requests']\n",
    "#CTR clicks/impressions\n",
    "df_ss['ctr'] = df_ss['clicks']/df_ss['impressions']\n",
    "df_ss['ctr'].describe()\n",
    "#engagement/impression = engagement rate\n",
    "df_ss['engagement_rate'] = df_ss['total_engagements']/df_ss['impressions']\n",
    "df_ss['engagement_rate'].describe()"
   ]
  },
  {
   "cell_type": "code",
   "execution_count": 47,
   "metadata": {
    "collapsed": false
   },
   "outputs": [
    {
     "data": {
      "text/plain": [
       "(165486, 18)"
      ]
     },
     "execution_count": 47,
     "metadata": {},
     "output_type": "execute_result"
    }
   ],
   "source": [
    "df_ss = df_ss[(df_ss['ctr'] <= 1) & (df_ss['engagement_rate'] <= 1)]\n",
    "df_ss.shape"
   ]
  },
  {
   "cell_type": "code",
   "execution_count": 57,
   "metadata": {
    "collapsed": false
   },
   "outputs": [
    {
     "name": "stdout",
     "output_type": "stream",
     "text": [
      "    location_type  fill_rate\n",
      "0  below the post   0.233388\n",
      "1         gallery   0.297457\n",
      "2         in-feed   0.266381\n",
      "3        mid-post   0.182826\n",
      "4           other   0.213835\n",
      "       layout_type  engagement_rate\n",
      "0         multiple         0.003589\n",
      "1  multiple_manual         0.003803\n",
      "2           single         0.003036\n"
     ]
    }
   ],
   "source": [
    "#visible impression by location, layout and device?\n",
    "vis_imp = df_ss.groupby('country')['visible_impressions'].mean().reset_index()\n",
    "enga = df_ss.groupby('country')['engagement_rate'].mean().reset_index()\n",
    "request = df_ss.groupby('country')['total_impression_requests'].mean().reset_index()\n",
    "device = df_ss.groupby('device_category')['engagement_rate'].mean().reset_index()\n",
    "# print df_ss.groupby('device_category')['fill_rate'].mean()\n",
    "# print '+++++++++++++++++++++++'\n",
    "# print df_ss.groupby('location_type')['engagement_rate'].mean()\n",
    "location = df_ss.groupby('location_type')['fill_rate'].mean().reset_index()\n",
    "print location\n",
    "# print '+++++++++++++++++++++++'\n",
    "layout = df_ss.groupby('layout_type')['engagement_rate'].mean().reset_index()\n",
    "print layout\n",
    "# print df_ss.groupby('layout_type')['fill_rate'].mean()\n",
    "Enga = df_ss.groupby(['country','device_category'])['engagement_rate'].mean().reset_index()\n",
    "Enga1 = df_ss.groupby(['location_type','device_category'])['engagement_rate'].mean().reset_index()\n",
    "engagementR = np.array(Enga1['engagement_rate'])\n",
    "engagementRate = np.array(Enga['engagement_rate'])\n",
    "engagementRate = engagementRate.reshape(10, 3)\n",
    "engagementR = engagementR.reshape(5,3)"
   ]
  },
  {
   "cell_type": "code",
   "execution_count": 93,
   "metadata": {
    "collapsed": false
   },
   "outputs": [
    {
     "name": "stdout",
     "output_type": "stream",
     "text": [
      "This is the format of your plot grid:\n",
      "[ (1,1) x1,y1 ]\n",
      "[ (2,1) x1,y2 ]\n",
      "\n"
     ]
    }
   ],
   "source": [
    "##Engagement Rate Head Map cross Difference Categories\n",
    "\n",
    "\n",
    "fig = tools.make_subplots(rows=2, cols=1,\n",
    "                          specs=[[{}],\n",
    "                                 [{}]], shared_xaxes=True,\n",
    "                          shared_yaxes=False, vertical_spacing=0.001)\n",
    "\n",
    "fig.append_trace(go.Heatmap(\n",
    "        z=engagementRate,\n",
    "        x=['Desktop', 'Smartphone', 'Tablet'],\n",
    "        y=enga.country.values,\n",
    "        colorscale=[[0, '#3D9970'], [5, '#001f3f']],\n",
    "        showscale = True), 1, 1)\n",
    "\n",
    "fig.append_trace(go.Heatmap(\n",
    "        z=engagementR,\n",
    "        x=['Desktop', 'Smartphone', 'Tablet'],\n",
    "        y=location.location_type.values,\n",
    "        colorscale=[[0, '#3D9970'], [5, '#001f3f']],\n",
    "        showscale = False), 2, 1)\n",
    "\n",
    "layout = go.Layout(\n",
    "#     title='Engagement Rate cross /n Difference Categories',\n",
    "    autosize=False,\n",
    "    width=350,\n",
    "    height=480,\n",
    "    margin=go.Margin(\n",
    "        pad=4\n",
    "    )\n",
    ")\n",
    "fig['layout'].update(layout)\n",
    "plot_url = py.plot(fig, filename='labelled-heatmap')"
   ]
  },
  {
   "cell_type": "code",
   "execution_count": 94,
   "metadata": {
    "collapsed": false
   },
   "outputs": [],
   "source": [
    "df_en = pd.read_csv('Engagement.csv')\n",
    "df_en.columns = map(str.lower, df_en.columns)"
   ]
  },
  {
   "cell_type": "code",
   "execution_count": 124,
   "metadata": {
    "collapsed": false
   },
   "outputs": [
    {
     "name": "stdout",
     "output_type": "stream",
     "text": [
      "  device_category  engagement_rate\n",
      "0         Desktop             0.20\n",
      "1      Smartphone             0.35\n",
      "2          Tablet             0.37\n"
     ]
    }
   ],
   "source": [
    "# vis_imp = df_ss.groupby('country')['visible_impressions'].mean().reset_index()\n",
    "device_social = df_en.groupby('device_category')['socialmedia_shares'].sum().reset_index()\n",
    "device_social['socialmedia_shares'] = (device_social['socialmedia_shares']/10000)\n",
    "device_enga = df_ss.groupby('device_category')['engagement_rate'].mean().reset_index()\n",
    "device_enga['engagement_rate'] = (device_enga['engagement_rate']*100).round(2)\n",
    "print device_enga"
   ]
  },
  {
   "cell_type": "code",
   "execution_count": 215,
   "metadata": {
    "collapsed": false
   },
   "outputs": [],
   "source": [
    "##Social Media Share and Engagement Rate in Different Devices\n",
    "\n",
    "trace1 = go.Bar(\n",
    "    x = device_social.device_category.values,\n",
    "    y = device_social['socialmedia_shares'].values,\n",
    "#     mode = 'lines+markers',\n",
    "    name = 'Aggregate Socialmedia_shares in ten thousands ',\n",
    "    marker=dict(\n",
    "        color='rgb(195, 151, 162)',\n",
    "        line=dict(\n",
    "            color='rgb(8,48,107)',\n",
    "            width=1.5,\n",
    "        )\n",
    ")\n",
    "    )\n",
    "trace2 = go.Bar(\n",
    "    x = device_enga.device_category.values,\n",
    "    y = device_enga.engagement_rate.values,\n",
    "#     mode = 'lines',\n",
    "    name = 'Average engagement rate',\n",
    "        marker=dict(\n",
    "        color='rgb(153, 195, 194)',\n",
    "        line=dict(\n",
    "            color='rgb(8,48,107)',\n",
    "            width=1.5,\n",
    "        )\n",
    ")\n",
    "    )\n",
    "layout = dict(\n",
    "legend=dict(\n",
    "        x=0.029,\n",
    "        y=1.138,\n",
    "        font=dict(\n",
    "            size=10,\n",
    "        )\n",
    "        )\n",
    "    )\n",
    "data = [trace1, trace2]\n",
    "fig = go.Figure(data=data, layout=layout)\n",
    "# Plot and embed in ipython notebook!\n",
    "plot_url = py.plot(fig, filename='scatter-mode')"
   ]
  },
  {
   "cell_type": "code",
   "execution_count": 135,
   "metadata": {
    "collapsed": false
   },
   "outputs": [],
   "source": [
    "#load the table that related to engagement activity\n",
    "df_e = pd.read_csv('Engagement.csv')\n",
    "df_e.columns = map(str.lower, df_e.columns)"
   ]
  },
  {
   "cell_type": "code",
   "execution_count": 216,
   "metadata": {
    "collapsed": false
   },
   "outputs": [
    {
     "name": "stdout",
     "output_type": "stream",
     "text": [
      "This is the format of your plot grid:\n",
      "[ (1,1) x1,y1 ]  [ (1,2) x2,y2 ]\n",
      "[ (2,1) x3,y3 ]  [ (2,2) x4,y4 ]\n",
      "\n",
      "The draw time for this plot will be slow for all clients.\n"
     ]
    }
   ],
   "source": [
    "# Scatter Pairs between Social Media Share, Auto Play and Ten-seconds Play\n",
    "\n",
    "trace1 = go.Scatter(\n",
    "    x = df_e.socialmedia_shares.values,\n",
    "    y = df_e.autoplay_views.values,\n",
    "    mode = 'markers',\n",
    "    xaxis='x1', yaxis='y1',\n",
    "    marker = dict( size = 3, color = 'rgb(153, 195, 194)')\n",
    ")\n",
    "\n",
    "trace4 = go.Scatter(\n",
    "    x = df_e.autoplay_views.values,\n",
    "    y = df_e.ten_second_views.values,    \n",
    "    mode = 'markers',\n",
    "    xaxis='x4', yaxis='y4',\n",
    "    marker = dict( size = 3, color = 'rgb(153, 204, 255)')\n",
    ")\n",
    "\n",
    "trace2 = go.Histogram(\n",
    "        x= np.log(df_e['socialmedia_shares']) - (np.log(df_e['socialmedia_shares'])).mean(),\n",
    "        xaxis='x2', yaxis='y2',\n",
    "        marker = dict(color = 'rgb(153, 51, 51)')\n",
    "    )\n",
    "\n",
    "\n",
    "trace3 = go.Scatter(\n",
    "    x = df_e.socialmedia_shares.values,\n",
    "    y = df_e.ten_second_views.values,\n",
    "    mode = 'markers',\n",
    "    xaxis='x3', yaxis='y3',\n",
    "    marker = dict( size = 3, color = 'rgb(255, 204, 204)')\n",
    ")\n",
    "\n",
    "layout = go.Layout(title = 'Styled Scatter',\n",
    "              yaxis = dict(showgrid = False),\n",
    "              xaxis = dict(showgrid = False),\n",
    "              showlegend=False)\n",
    "\n",
    "fig = tools.make_subplots(rows=2, cols=2,\n",
    "                              specs=[[{}, {}],\n",
    "                                     [{}, {}]])\n",
    "\n",
    "fig.append_trace(trace1, 1, 1)\n",
    "fig.append_trace(trace2, 1, 2)\n",
    "fig.append_trace(trace3, 2, 1)\n",
    "fig.append_trace(trace4, 2, 2)\n",
    "\n",
    "# fig['layout']['xaxis1'].update(showgrid=False)\n",
    "# fig['layout']['xaxis2'].update(showgrid=False)\n",
    "fig['layout']['xaxis3'].update(title='socialmedia_shares')\n",
    "fig['layout']['xaxis4'].update(title='autoplay_views', showgrid = False)\n",
    "\n",
    "fig['layout']['yaxis1'].update(title='autoplay_views')\n",
    "# fig['layout']['yaxis2'].update(showgrid=False)\n",
    "fig['layout']['yaxis3'].update(title='ten_second_views')\n",
    "\n",
    "\n",
    "fig['layout'].update(showlegend = False, height = 400, width = 600)\n",
    "\n",
    "\n",
    "\n",
    "# fig = go.Figure(fig, layout=layout)\n",
    "plot_url = py.plot(fig, filename='scatter pairs')"
   ]
  }
 ],
 "metadata": {
  "kernelspec": {
   "display_name": "Python 2",
   "language": "python",
   "name": "python2"
  },
  "language_info": {
   "codemirror_mode": {
    "name": "ipython",
    "version": 2
   },
   "file_extension": ".py",
   "mimetype": "text/x-python",
   "name": "python",
   "nbconvert_exporter": "python",
   "pygments_lexer": "ipython2",
   "version": "2.7.11"
  }
 },
 "nbformat": 4,
 "nbformat_minor": 0
}
