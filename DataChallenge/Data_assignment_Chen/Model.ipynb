{
 "cells": [
  {
   "cell_type": "code",
   "execution_count": 1,
   "metadata": {
    "collapsed": false
   },
   "outputs": [
    {
     "data": {
      "text/html": [
       "<script>\n",
       "code_show=true; \n",
       "function code_toggle() {\n",
       " if (code_show){\n",
       " $('div.input').hide();\n",
       " } else {\n",
       " $('div.input').show();\n",
       " }\n",
       " code_show = !code_show\n",
       "} \n",
       "$( document ).ready(code_toggle);\n",
       "</script>\n",
       "<form action=\"javascript:code_toggle()\"><input type=\"submit\" value=\"Click here to toggle on/off the raw code.\"></form>"
      ],
      "text/plain": [
       "<IPython.core.display.HTML object>"
      ]
     },
     "execution_count": 1,
     "metadata": {},
     "output_type": "execute_result"
    }
   ],
   "source": [
    "from IPython.display import HTML\n",
    "\n",
    "HTML('''<script>\n",
    "code_show=true; \n",
    "function code_toggle() {\n",
    " if (code_show){\n",
    " $('div.input').hide();\n",
    " } else {\n",
    " $('div.input').show();\n",
    " }\n",
    " code_show = !code_show\n",
    "} \n",
    "$( document ).ready(code_toggle);\n",
    "</script>\n",
    "<form action=\"javascript:code_toggle()\"><input type=\"submit\" value=\"Click here to toggle on/off the raw code.\"></form>''')\n"
   ]
  },
  {
   "cell_type": "code",
   "execution_count": 2,
   "metadata": {
    "collapsed": true
   },
   "outputs": [],
   "source": [
    "import math\n",
    "import pandas as pd\n",
    "import numpy as np\n",
    "\n",
    "from patsy import dmatrices\n",
    "import statsmodels.api as sm\n",
    "from sklearn.linear_model import LogisticRegression\n",
    "from sklearn import metrics\n",
    "from sklearn.cross_validation import cross_val_score\n",
    "from sklearn.preprocessing import PolynomialFeatures\n",
    "from sklearn import linear_model\n",
    "from sklearn.linear_model import LinearRegression\n",
    "import statsmodels.formula.api as smf\n",
    "\n",
    "\n",
    "import plotly.plotly as py # interactive graphing\n",
    "from plotly.graph_objs import Bar, Scatter, Marker, Layout\n",
    "import matplotlib.pyplot as plt\n"
   ]
  },
  {
   "cell_type": "markdown",
   "metadata": {},
   "source": [
    "\n",
    "# Summary\n",
    "\n",
    "1. Given three tables, I put all of them into mySQL and create some tables. \n",
    "\n",
    "\n",
    "   - **First Table**: \n",
    "\n",
    "       **select** PLACEMENT_KEY, country,device_category,eligible_impression_requests, TOTAL_IMPRESSION_REQUESTS, \n",
    "       filled_pages, IMPRESSIONS,VISIBLE_IMPRESSIONS,clicks,TOTAL_ENGAGEMENTS,VIDEO_PLAYS,AUTOPLAY_VIEWS,\n",
    "       GUARANTEED_BRAND_SAFE,LOCATION_TYPE,LAYOUT_TYPE              \n",
    "       **from** sharethroughdb.mpcde as m                       \n",
    "       **inner join** sharethroughdb.pl as P                    \n",
    "       **on** m.PLACEMENT_KEY = P.KEY\n",
    "    \n",
    "    \n",
    "     **Intepretation** \n",
    "       *Merging the mpcde table with pl table in order to get location type and layout type of a specific ad slot\n",
    "\n",
    "\n",
    "\n",
    "   - **Second Table**: \n",
    "\n",
    "       **select** COUNTRY,CATEGORY,DEVICE_CATEGORY             \n",
    "       **from** sharethroughdb.mpcde as m               \n",
    "       **inner** join sharethroughdb.pc as P             \n",
    "       **on** m.placement_key = p.placement_key             \n",
    "       **where** TOTAL_ENGAGEMENTS > 0\n",
    "    \n",
    "\n",
    "\n",
    "\n",
    "\n",
    "2. As a native ad software company, one of things that Sharethrough cares about the most is Ad's click-through-rate and enegagement rate. Click-through-rate tells how much attentions the ads are getting, and engagement rate gives a far more accurate picture about what's happening on the web page.\n",
    "* Click-through-rate and Engagement rate are calculated in following way:\n",
    "    - Click-through-rate = clicks/impressions                     \n",
    "    - Engagement_rate = engagement/impressions     \n",
    "3. Since there are a lot of 0s in the data set for clicks and total_engagements, Click-through-rate and Engagement_rate end up being highly right skewed. And the mean for Click-through-rate is 0.0028 and Engagement_rate average is 0.0032. I tried to perform a generlized linear model with probit link and log transform  function as following:                                      Engagement_rate ~ Country + Device +                                    and the model fit doesn't seem have a strong predict power.                                                            4.Therefore, I went around to create a binary variable called CLICKS, I labled every ad slots that have clicks happened as 1, otherwise 0. And construct a **Logistic Regression** on top ot it.                                         CLICKS ~ total_impression_requests + filled_pages + visible_impressions + country + device_category + location_type + layout_type                                                                                            The logistic regression were able to get an accuracy of 88% for the cross-validation. Following are the specifc steps that how I perform the logistic regression. \n",
    "\n"
   ]
  },
  {
   "cell_type": "code",
   "execution_count": 5,
   "metadata": {
    "collapsed": false
   },
   "outputs": [],
   "source": [
    "df = pd.read_csv('firstable.csv')\n",
    "df.columns = map(str.lower, df.columns)\n",
    "# df.shape"
   ]
  },
  {
   "cell_type": "markdown",
   "metadata": {},
   "source": [
    "## Data Preparation\n",
    "\n",
    "Given the dataset, we know that it has 481943 rows and 15 columns, for the purpose of this analysis, our variable of interest is either clicks or engagements from impressions that served by Sharethrough, hence we are going to narrow the data set down to rows have impressions served by Sharesthrough, which gives us a new shape of the data set with 165513 rows and still 15 columns, We also realized that some ctr and engagement rate is larger than 1 which doesn't make sense, those should be removed"
   ]
  },
  {
   "cell_type": "code",
   "execution_count": 6,
   "metadata": {
    "collapsed": false
   },
   "outputs": [],
   "source": [
    "#In this analysis we are going to assume that we are only interested in those ad slot that \n",
    "#have impressions served by Sharethrough\n",
    "df = df[df['impressions']>0]\n",
    "#dimension of the dataset\n",
    "# df.shape\n",
    "# np.corrcoef(df_ss[])"
   ]
  },
  {
   "cell_type": "code",
   "execution_count": 7,
   "metadata": {
    "collapsed": false,
    "scrolled": false
   },
   "outputs": [],
   "source": [
    "#CTR is important to us, becasue we want to have a better CTR predicion so we can tell the client \n",
    "df['CTR'] = df['clicks']/df['impressions']\n",
    "df['Engagement_Rate'] = df['total_engagements']/df['impressions']\n",
    "##For ctr that is larger than zero, it doesn't make sense, so we are going to drop them\n",
    "df = df[(df['CTR'] <= 1) & (df['Engagement_Rate'] <= 1)]\n",
    "# print df['CTR'].mean()\n",
    "# print df['Engagement_Rate'].mean()"
   ]
  },
  {
   "cell_type": "markdown",
   "metadata": {
    "collapsed": false
   },
   "source": [
    "**Quick look of the data:    \n",
    "since we are going to perform a logistic model, so I am going to lable ads that doesn't got any click as 0, and ads that gets clicks as 1, and this varibale will be the target varibel we try to predit** "
   ]
  },
  {
   "cell_type": "code",
   "execution_count": 8,
   "metadata": {
    "collapsed": false,
    "scrolled": true
   },
   "outputs": [
    {
     "data": {
      "text/html": [
       "<div>\n",
       "<table border=\"1\" class=\"dataframe\">\n",
       "  <thead>\n",
       "    <tr style=\"text-align: right;\">\n",
       "      <th></th>\n",
       "      <th>placement_key</th>\n",
       "      <th>country</th>\n",
       "      <th>device_category</th>\n",
       "      <th>eligible_impression_requests</th>\n",
       "      <th>total_impression_requests</th>\n",
       "      <th>filled_pages</th>\n",
       "      <th>impressions</th>\n",
       "      <th>visible_impressions</th>\n",
       "      <th>clicks</th>\n",
       "      <th>total_engagements</th>\n",
       "      <th>video_plays</th>\n",
       "      <th>autoplay_views</th>\n",
       "      <th>guaranteed_brand_safe</th>\n",
       "      <th>location_type</th>\n",
       "      <th>layout_type</th>\n",
       "      <th>CTR</th>\n",
       "      <th>Engagement_Rate</th>\n",
       "    </tr>\n",
       "  </thead>\n",
       "  <tbody>\n",
       "    <tr>\n",
       "      <th>0</th>\n",
       "      <td>c1687c86</td>\n",
       "      <td>US</td>\n",
       "      <td>Smartphone</td>\n",
       "      <td>241</td>\n",
       "      <td>284</td>\n",
       "      <td>1</td>\n",
       "      <td>1</td>\n",
       "      <td>1</td>\n",
       "      <td>0</td>\n",
       "      <td>0</td>\n",
       "      <td>0</td>\n",
       "      <td>0</td>\n",
       "      <td>0</td>\n",
       "      <td>below the post</td>\n",
       "      <td>single</td>\n",
       "      <td>0.0</td>\n",
       "      <td>0.0</td>\n",
       "    </tr>\n",
       "  </tbody>\n",
       "</table>\n",
       "</div>"
      ],
      "text/plain": [
       "  placement_key country device_category  eligible_impression_requests  \\\n",
       "0      c1687c86      US      Smartphone                           241   \n",
       "\n",
       "   total_impression_requests  filled_pages  impressions  visible_impressions  \\\n",
       "0                        284             1            1                    1   \n",
       "\n",
       "   clicks  total_engagements  video_plays  autoplay_views  \\\n",
       "0       0                  0            0               0   \n",
       "\n",
       "   guaranteed_brand_safe   location_type layout_type  CTR  Engagement_Rate  \n",
       "0                      0  below the post      single  0.0              0.0  "
      ]
     },
     "execution_count": 8,
     "metadata": {},
     "output_type": "execute_result"
    }
   ],
   "source": [
    "df.head(1)"
   ]
  },
  {
   "cell_type": "code",
   "execution_count": 9,
   "metadata": {
    "collapsed": false
   },
   "outputs": [],
   "source": [
    "#Another way to define CTR\n",
    "def foo(j):\n",
    "    if j['clicks'] > 0: return 1\n",
    "    else: return 0\n",
    "\n",
    "df['CLICKS'] = df.apply(lambda row: foo(row), axis = 1)"
   ]
  },
  {
   "cell_type": "code",
   "execution_count": 11,
   "metadata": {
    "collapsed": false
   },
   "outputs": [
    {
     "data": {
      "text/plain": [
       "0.23418100088814775"
      ]
     },
     "execution_count": 11,
     "metadata": {},
     "output_type": "execute_result"
    }
   ],
   "source": [
    "# df['CLICKS'].mean()"
   ]
  },
  {
   "cell_type": "markdown",
   "metadata": {},
   "source": [
    "**To understand the relationship between the target variable and other features we have, we want to calculate the click-through rate for each value of country/device_type/location_type/brands/layout_type, and have a basic idea that how strong those features will help us to predit the target variable**"
   ]
  },
  {
   "cell_type": "code",
   "execution_count": 11,
   "metadata": {
    "collapsed": false,
    "scrolled": true
   },
   "outputs": [],
   "source": [
    "#  df.groupby('device_category')['CLICKS'].mean()\n",
    "#looks like there are some difference between CTR cross different device types"
   ]
  },
  {
   "cell_type": "markdown",
   "metadata": {},
   "source": [
    "**1. device_category and clicks : some significant difference between difference types of devices**\n",
    "\n",
    "\n",
    "| Decive        | CLICKS Mean |\n",
    "| ------        | ----------- |\n",
    "| Desktop       | 0.1872 |\n",
    "| Smartphone    | 0.2678|\n",
    "| Tablet        | 0.2307|\n"
   ]
  },
  {
   "cell_type": "code",
   "execution_count": 12,
   "metadata": {
    "collapsed": false
   },
   "outputs": [],
   "source": [
    "# print df.groupby('country')['CLICKS'].mean()\n",
    "##seems like there is also some difference between CTR cross country"
   ]
  },
  {
   "cell_type": "markdown",
   "metadata": {},
   "source": [
    "**2. counrty and clicks : some strong evidences showing difference between countries**\n",
    "\n",
    "\n",
    "| Country       | AU | BE |CA|DE|ES|FI|FR|GB|IT|US|\n",
    "| ------        | ----|---|---|---|---|---|---|--|--|--|\n",
    "| **CLICKS mean**   | 0.028 |0.001|0.16|0.034|0.014|0.005|0.02|0.18|0.006|0.37|"
   ]
  },
  {
   "cell_type": "code",
   "execution_count": 13,
   "metadata": {
    "collapsed": false
   },
   "outputs": [],
   "source": [
    "# print df.groupby('guaranteed_brand_safe')['CLICKS'].mean()\n",
    "#I wouldn't say there is big difference... "
   ]
  },
  {
   "cell_type": "markdown",
   "metadata": {},
   "source": [
    "**3. brand safe and clicks : there's small differnce **\n",
    "\n",
    "| Guaranteed_brand_safe       | CLICKS Mean |\n",
    "| ------        | ----------- |\n",
    "| 0     | 0.355 |\n",
    "| 1    | 0.208|\n"
   ]
  },
  {
   "cell_type": "code",
   "execution_count": 14,
   "metadata": {
    "collapsed": false
   },
   "outputs": [],
   "source": [
    "# print df.groupby('location_type')['CLICKS'].mean()\n",
    "##We can see that there's definitely differnce here "
   ]
  },
  {
   "cell_type": "markdown",
   "metadata": {},
   "source": [
    "**4. location_type and clicks : there's a decent difference might help the model **\n",
    "\n",
    "| Location Type        | CLICKS Mean |\n",
    "| ------        | ----------- |\n",
    "|below the post      | 0.2808 |\n",
    "| gallery   | 0.203|\n",
    "| in-feed       | 0.208|\n",
    "| mid_post     | 0.36|\n",
    "| other     | 0.18|"
   ]
  },
  {
   "cell_type": "code",
   "execution_count": 15,
   "metadata": {
    "collapsed": false
   },
   "outputs": [],
   "source": [
    "# print df.groupby('layout_type')['CLICKS'].mean()\n",
    "##The layout doesn't mean that big difference "
   ]
  },
  {
   "cell_type": "markdown",
   "metadata": {},
   "source": [
    "**5. location_type and clicks : there's a decent difference might help the model**\n",
    "\n",
    "\n",
    "| Layout Type   | CLICKS Mean |\n",
    "| ------        | ----------- |\n",
    "|multiple        | 0.1634 |\n",
    "| multiple_manual | 0.336830|\n",
    "| single      | 0.345|\n",
    "\n",
    "\n",
    "**So, I am going to include device category, counrty, location_type and layout_type into features for the model. And besides of the categorical variabls, total_impression_requests, filled_pages and visible_impression will also be included in the model.**\n",
    "\n",
    "Modeling \n",
    "----------------\n",
    "1. Split the dataset  \n",
    "2. Set dummy variables for categorical variables\n",
    "3. Fit the model and check model performance\n",
    "4. Using the model to predict the test data and obtain test error \n",
    "5. Model cross-validation "
   ]
  },
  {
   "cell_type": "code",
   "execution_count": 16,
   "metadata": {
    "collapsed": false
   },
   "outputs": [],
   "source": [
    "##Spilting the data\n",
    "msk = np.random.rand(len(df)) < 0.8\n",
    "train = df[msk]\n",
    "test = df[~msk]"
   ]
  },
  {
   "cell_type": "markdown",
   "metadata": {},
   "source": [
    "+ Spliting the data randomly\n",
    "  - 80% training data \n",
    "  - 20% testing "
   ]
  },
  {
   "cell_type": "code",
   "execution_count": 20,
   "metadata": {
    "collapsed": false
   },
   "outputs": [],
   "source": [
    "y, X = dmatrices('CLICKS ~ total_impression_requests + filled_pages + visible_impressions + C(country) + C(device_category) + \\\n",
    "                    C(location_type) + C(layout_type)',df, return_type=\"dataframe\")\n",
    "train_y, train_X = dmatrices('CLICKS ~ total_impression_requests + filled_pages + visible_impressions + C(country) + C(device_category) + \\\n",
    "                    C(location_type) + C(layout_type)',train, return_type=\"dataframe\")\n",
    "test_y, test_X = dmatrices('CLICKS ~ total_impression_requests + filled_pages + visible_impressions + C(country) + C(device_category) + \\\n",
    "                    C(location_type) + C(layout_type)',test, return_type=\"dataframe\")"
   ]
  },
  {
   "cell_type": "markdown",
   "metadata": {},
   "source": [
    "+ Dummy Variables\n",
    "  - create dummy variables for all the categorical variabls and put back to the data frame\n",
    "  - following is what it looks like after creating dummy variables"
   ]
  },
  {
   "cell_type": "code",
   "execution_count": 21,
   "metadata": {
    "collapsed": false
   },
   "outputs": [
    {
     "data": {
      "text/html": [
       "<div>\n",
       "<table border=\"1\" class=\"dataframe\">\n",
       "  <thead>\n",
       "    <tr style=\"text-align: right;\">\n",
       "      <th></th>\n",
       "      <th>Intercept</th>\n",
       "      <th>C(country)[T.BE]</th>\n",
       "      <th>C(country)[T.CA]</th>\n",
       "      <th>C(country)[T.DE]</th>\n",
       "      <th>C(country)[T.ES]</th>\n",
       "      <th>C(country)[T.FI]</th>\n",
       "      <th>C(country)[T.FR]</th>\n",
       "      <th>C(country)[T.GB]</th>\n",
       "      <th>C(country)[T.IT]</th>\n",
       "      <th>C(country)[T.US]</th>\n",
       "      <th>...</th>\n",
       "      <th>C(device_category)[T.Tablet]</th>\n",
       "      <th>C(location_type)[T.gallery]</th>\n",
       "      <th>C(location_type)[T.in-feed]</th>\n",
       "      <th>C(location_type)[T.mid-post]</th>\n",
       "      <th>C(location_type)[T.other]</th>\n",
       "      <th>C(layout_type)[T.multiple_manual]</th>\n",
       "      <th>C(layout_type)[T.single]</th>\n",
       "      <th>total_impression_requests</th>\n",
       "      <th>filled_pages</th>\n",
       "      <th>visible_impressions</th>\n",
       "    </tr>\n",
       "  </thead>\n",
       "  <tbody>\n",
       "    <tr>\n",
       "      <th>0</th>\n",
       "      <td>1.0</td>\n",
       "      <td>0.0</td>\n",
       "      <td>0.0</td>\n",
       "      <td>0.0</td>\n",
       "      <td>0.0</td>\n",
       "      <td>0.0</td>\n",
       "      <td>0.0</td>\n",
       "      <td>0.0</td>\n",
       "      <td>0.0</td>\n",
       "      <td>1.0</td>\n",
       "      <td>...</td>\n",
       "      <td>0.0</td>\n",
       "      <td>0.0</td>\n",
       "      <td>0.0</td>\n",
       "      <td>0.0</td>\n",
       "      <td>0.0</td>\n",
       "      <td>0.0</td>\n",
       "      <td>1.0</td>\n",
       "      <td>284.0</td>\n",
       "      <td>1.0</td>\n",
       "      <td>1.0</td>\n",
       "    </tr>\n",
       "  </tbody>\n",
       "</table>\n",
       "<p>1 rows × 21 columns</p>\n",
       "</div>"
      ],
      "text/plain": [
       "   Intercept  C(country)[T.BE]  C(country)[T.CA]  C(country)[T.DE]  \\\n",
       "0        1.0               0.0               0.0               0.0   \n",
       "\n",
       "   C(country)[T.ES]  C(country)[T.FI]  C(country)[T.FR]  C(country)[T.GB]  \\\n",
       "0               0.0               0.0               0.0               0.0   \n",
       "\n",
       "   C(country)[T.IT]  C(country)[T.US]         ...           \\\n",
       "0               0.0               1.0         ...            \n",
       "\n",
       "   C(device_category)[T.Tablet]  C(location_type)[T.gallery]  \\\n",
       "0                           0.0                          0.0   \n",
       "\n",
       "   C(location_type)[T.in-feed]  C(location_type)[T.mid-post]  \\\n",
       "0                          0.0                           0.0   \n",
       "\n",
       "   C(location_type)[T.other]  C(layout_type)[T.multiple_manual]  \\\n",
       "0                        0.0                                0.0   \n",
       "\n",
       "   C(layout_type)[T.single]  total_impression_requests  filled_pages  \\\n",
       "0                       1.0                      284.0           1.0   \n",
       "\n",
       "   visible_impressions  \n",
       "0                  1.0  \n",
       "\n",
       "[1 rows x 21 columns]"
      ]
     },
     "execution_count": 21,
     "metadata": {},
     "output_type": "execute_result"
    }
   ],
   "source": [
    "train_X.head(1)"
   ]
  },
  {
   "cell_type": "code",
   "execution_count": 22,
   "metadata": {
    "collapsed": true
   },
   "outputs": [],
   "source": [
    "train_y = np.ravel(train_y)\n",
    "y = np.ravel(y)"
   ]
  },
  {
   "cell_type": "markdown",
   "metadata": {},
   "source": [
    "- transform target variable into an array in order to fit into model next step"
   ]
  },
  {
   "cell_type": "code",
   "execution_count": 23,
   "metadata": {
    "collapsed": false
   },
   "outputs": [],
   "source": [
    "model = LogisticRegression()\n",
    "model = model.fit(train_X, train_y)\n",
    "# print model.score(train_X, train_y)"
   ]
  },
  {
   "cell_type": "markdown",
   "metadata": {},
   "source": [
    "- **0.8898** is the accuracy on the training set. It's good, but we want to know the **prediction power** of the model"
   ]
  },
  {
   "cell_type": "code",
   "execution_count": 24,
   "metadata": {
    "collapsed": true
   },
   "outputs": [],
   "source": [
    "predicted = model.predict(test_X)\n",
    "probs = model.predict_proba(test_X)"
   ]
  },
  {
   "cell_type": "markdown",
   "metadata": {},
   "source": [
    "Result\n",
    "--------\n",
    "\n",
    "- We got 89% accuracy predicting click =0 and 91% accuracy predicting click =1\n",
    "\n",
    "| Target value  | Predicted 0| Predicted 1 | Precision |\n",
    "|:-------------:|:----------:|:-----------:|:----------:\n",
    "|       0       | 24976      |  471        |   0.89    |\n",
    "|       1       | 3111       | 4647        |   0.91    |\n",
    "\n",
    "- It seems like a very pleasant result, However, we still want to run a cross-validation to make sure this result is not just happen to happen"
   ]
  },
  {
   "cell_type": "code",
   "execution_count": 25,
   "metadata": {
    "collapsed": false,
    "scrolled": true
   },
   "outputs": [],
   "source": [
    "# metrics.confusion_matrix(test_y, predicted)\n",
    "# metrics.classification_report(test_y, predicted)"
   ]
  },
  {
   "cell_type": "markdown",
   "metadata": {},
   "source": [
    "**The cross validation I picked here is 10-fold cross-validation**\n",
    "\n",
    "In 10-fold cross-validation, the original sample is randomly partitioned into 10 equal size subsamples. Of the 10 subsamples, a single subsample is retained as the validation data for testing the model, and the remaining 10-1 subsamples are used as training data. The cross-validation process is then repeated 10 times (the folds), with each of the 10 subsamples used exactly once as the validation data. The 10 results from the folds can then be averaged (or otherwise combined) to produce a single estimation. The advantage of this method is that all observations are used for both training and validation, and each observation is used for validation exactly once.\n",
    "- source : http://www.openml.org/a/estimation-procedures/1"
   ]
  },
  {
   "cell_type": "code",
   "execution_count": 26,
   "metadata": {
    "collapsed": false
   },
   "outputs": [
    {
     "name": "stdout",
     "output_type": "stream",
     "text": [
      "     CV    scores\n",
      "0   cv1  0.888399\n",
      "1   cv2  0.889728\n",
      "2   cv3  0.891843\n",
      "3   cv4  0.891951\n",
      "4   cv5  0.889292\n",
      "5   cv6  0.890319\n",
      "6   cv7  0.889292\n",
      "7   cv8  0.886331\n",
      "8   cv9  0.889956\n",
      "9  cv10  0.894368\n"
     ]
    }
   ],
   "source": [
    "# evaluate the model using 10-fold cross-validation\n",
    "scores = cross_val_score(LogisticRegression(), X, y, scoring='accuracy', cv=10)\n",
    "table = {'CV': ['cv1','cv2','cv3','cv4','cv5','cv6','cv7','cv8','cv9','cv10'],'scores': scores }\n",
    "print pd.DataFrame(table)"
   ]
  },
  {
   "cell_type": "markdown",
   "metadata": {},
   "source": [
    "Conclusion \n",
    "==============\n",
    "\n",
    "**Given the logistic model, we were able to predict if an placement(ad slot) will be clicked or not in around 88% accurary. This gives us a lot of information, for instance, those ad slot that have higher chances to be clicked have higher value to ad slot that don't.**"
   ]
  }
 ],
 "metadata": {
  "kernelspec": {
   "display_name": "Python 2",
   "language": "python",
   "name": "python2"
  },
  "language_info": {
   "codemirror_mode": {
    "name": "ipython",
    "version": 2
   },
   "file_extension": ".py",
   "mimetype": "text/x-python",
   "name": "python",
   "nbconvert_exporter": "python",
   "pygments_lexer": "ipython2",
   "version": "2.7.11"
  }
 },
 "nbformat": 4,
 "nbformat_minor": 0
}
