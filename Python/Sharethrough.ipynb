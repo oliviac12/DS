{
 "cells": [
  {
   "cell_type": "code",
   "execution_count": 152,
   "metadata": {
    "collapsed": false
   },
   "outputs": [],
   "source": [
    "%matplotlib inline\n",
    "import math\n",
    "import pandas as pd\n",
    "import numpy as np\n",
    "from patsy import dmatrices\n",
    "\n",
    "import statsmodels.api as sm\n",
    "from sklearn.linear_model import LogisticRegression\n",
    "from sklearn import metrics\n",
    "from sklearn.cross_validation import cross_val_score\n",
    "from sklearn.preprocessing import PolynomialFeatures\n",
    "from sklearn import linear_model\n",
    "from sklearn.linear_model import LinearRegression\n",
    "import statsmodels.formula.api as smf\n",
    "\n",
    "# import graphlab as gl\n",
    "import plotly.plotly as py # interactive graphing\n",
    "from plotly.graph_objs import Bar, Scatter, Marker, Layout\n",
    "import matplotlib.pyplot as plt\n",
    "# import seaborn as sns"
   ]
  },
  {
   "cell_type": "markdown",
   "metadata": {},
   "source": [
    "Data Preparation\n",
    "======================"
   ]
  },
  {
   "cell_type": "code",
   "execution_count": 203,
   "metadata": {
    "collapsed": false
   },
   "outputs": [
    {
     "data": {
      "text/plain": [
       "(481943, 15)"
      ]
     },
     "execution_count": 203,
     "metadata": {},
     "output_type": "execute_result"
    }
   ],
   "source": [
    "df = pd.read_csv('firstable.csv')\n",
    "df.columns = map(str.lower, df.columns)\n",
    "df.shape"
   ]
  },
  {
   "cell_type": "markdown",
   "metadata": {},
   "source": [
    "**Given the dataset, we know that it has 481943 rows and 15 columns, for the purpose of this analysis, our variable of interest is either clicks or engagements from impressions that served by Sharethrough, hence we are going to narrow the data set down to rows have impressions served by Sharesthrough, which gives us a new shape of the data set with 165513 rows and still 15 columns** "
   ]
  },
  {
   "cell_type": "code",
   "execution_count": 204,
   "metadata": {
    "collapsed": false
   },
   "outputs": [
    {
     "data": {
      "text/plain": [
       "(165513, 15)"
      ]
     },
     "execution_count": 204,
     "metadata": {},
     "output_type": "execute_result"
    }
   ],
   "source": [
    "#In this analysis we are going to assume that we are only interested in those ad slot that \n",
    "#have impressions served by Sharethrough\n",
    "df = df[df['impressions']>0]\n",
    "#dimension of the dataset\n",
    "df.shape\n",
    "# np.corrcoef(df_ss[])"
   ]
  },
  {
   "cell_type": "markdown",
   "metadata": {},
   "source": [
    "**Next, we are going to creat two new varibales: click through rate(ctr) and engagement rate              \n",
    "ctr = clicks/impressions                     \n",
    "engagement rate = engagement/impressions         \n",
    "We also realized that some ctr and engagement rate is larger than 1 which doesn't make sense, those should be removed**"
   ]
  },
  {
   "cell_type": "code",
   "execution_count": 205,
   "metadata": {
    "collapsed": false,
    "scrolled": false
   },
   "outputs": [
    {
     "data": {
      "text/plain": [
       "(165486, 17)"
      ]
     },
     "execution_count": 205,
     "metadata": {},
     "output_type": "execute_result"
    }
   ],
   "source": [
    "#CTR is important to us, becasue we want to have a better CTR predicion so we can tell the client \n",
    "df['CTR'] = df['clicks']/df['impressions']\n",
    "df['Engagement_Rate'] = df['total_engagements']/df['impressions']\n",
    "##For ctr that is larger than zero, it doesn't make sense, so we are going to drop them\n",
    "df = df[(df['CTR'] <= 1) & (df['Engagement_Rate'] <= 1)]\n",
    "df.shape"
   ]
  },
  {
   "cell_type": "markdown",
   "metadata": {
    "collapsed": false
   },
   "source": [
    "**Quick look of the data:    \n",
    "since we are going to perform a logistic model, so I am going to lable ads that doesn't got any click as 0, and ads that gets clicks as 1, and this varibale will be the target varibel we try to predit** "
   ]
  },
  {
   "cell_type": "code",
   "execution_count": 176,
   "metadata": {
    "collapsed": false,
    "scrolled": true
   },
   "outputs": [
    {
     "data": {
      "text/html": [
       "<div>\n",
       "<table border=\"1\" class=\"dataframe\">\n",
       "  <thead>\n",
       "    <tr style=\"text-align: right;\">\n",
       "      <th></th>\n",
       "      <th>placement_key</th>\n",
       "      <th>country</th>\n",
       "      <th>device_category</th>\n",
       "      <th>eligible_impression_requests</th>\n",
       "      <th>total_impression_requests</th>\n",
       "      <th>filled_pages</th>\n",
       "      <th>impressions</th>\n",
       "      <th>visible_impressions</th>\n",
       "      <th>clicks</th>\n",
       "      <th>total_engagements</th>\n",
       "      <th>video_plays</th>\n",
       "      <th>autoplay_views</th>\n",
       "      <th>guaranteed_brand_safe</th>\n",
       "      <th>location_type</th>\n",
       "      <th>layout_type</th>\n",
       "      <th>CTR</th>\n",
       "      <th>Engagement_Rate</th>\n",
       "    </tr>\n",
       "  </thead>\n",
       "  <tbody>\n",
       "    <tr>\n",
       "      <th>0</th>\n",
       "      <td>c1687c86</td>\n",
       "      <td>US</td>\n",
       "      <td>Smartphone</td>\n",
       "      <td>241</td>\n",
       "      <td>284</td>\n",
       "      <td>1</td>\n",
       "      <td>1</td>\n",
       "      <td>1</td>\n",
       "      <td>0</td>\n",
       "      <td>0</td>\n",
       "      <td>0</td>\n",
       "      <td>0</td>\n",
       "      <td>0</td>\n",
       "      <td>below the post</td>\n",
       "      <td>single</td>\n",
       "      <td>0.0</td>\n",
       "      <td>0.0</td>\n",
       "    </tr>\n",
       "  </tbody>\n",
       "</table>\n",
       "</div>"
      ],
      "text/plain": [
       "  placement_key country device_category  eligible_impression_requests  \\\n",
       "0      c1687c86      US      Smartphone                           241   \n",
       "\n",
       "   total_impression_requests  filled_pages  impressions  visible_impressions  \\\n",
       "0                        284             1            1                    1   \n",
       "\n",
       "   clicks  total_engagements  video_plays  autoplay_views  \\\n",
       "0       0                  0            0               0   \n",
       "\n",
       "   guaranteed_brand_safe   location_type layout_type  CTR  Engagement_Rate  \n",
       "0                      0  below the post      single  0.0              0.0  "
      ]
     },
     "execution_count": 176,
     "metadata": {},
     "output_type": "execute_result"
    }
   ],
   "source": [
    "df.head(1)"
   ]
  },
  {
   "cell_type": "code",
   "execution_count": 206,
   "metadata": {
    "collapsed": false
   },
   "outputs": [],
   "source": [
    "#Another way to define CTR\n",
    "def foo(j):\n",
    "    if j['clicks'] > 0: return 1\n",
    "    else: return 0\n",
    "\n",
    "df['CLICKS'] = df.apply(lambda row: foo(row), axis = 1)"
   ]
  },
  {
   "cell_type": "code",
   "execution_count": 11,
   "metadata": {
    "collapsed": false
   },
   "outputs": [
    {
     "data": {
      "text/plain": [
       "0.23418100088814775"
      ]
     },
     "execution_count": 11,
     "metadata": {},
     "output_type": "execute_result"
    }
   ],
   "source": [
    "df['CLICKS'].mean()"
   ]
  },
  {
   "cell_type": "markdown",
   "metadata": {},
   "source": [
    "**To understand the relationship between the target variable and other features we have, we want to calculate the click-through rate for each value of country/device_type/location_type/brands/layout_type, and have a basic idea that how strong those features will help us to predit the target variable**"
   ]
  },
  {
   "cell_type": "code",
   "execution_count": 179,
   "metadata": {
    "collapsed": false
   },
   "outputs": [
    {
     "name": "stdout",
     "output_type": "stream",
     "text": [
      "device_category\n",
      "Desktop       0.187246\n",
      "Smartphone    0.267812\n",
      "Tablet        0.230685\n",
      "Name: CLICKS, dtype: float64\n"
     ]
    }
   ],
   "source": [
    "print df.groupby('device_category')['CLICKS'].mean()\n",
    "##looks like there are some difference between CTR cross different device types"
   ]
  },
  {
   "cell_type": "markdown",
   "metadata": {},
   "source": [
    "**1. device_category and clicks : some significant difference between difference types of devices**"
   ]
  },
  {
   "cell_type": "code",
   "execution_count": 180,
   "metadata": {
    "collapsed": false
   },
   "outputs": [
    {
     "name": "stdout",
     "output_type": "stream",
     "text": [
      "country\n",
      "AU    0.027995\n",
      "BE    0.010000\n",
      "CA    0.159643\n",
      "DE    0.033705\n",
      "ES    0.013592\n",
      "FI    0.004950\n",
      "FR    0.020859\n",
      "GB    0.186646\n",
      "IT    0.006061\n",
      "US    0.370687\n",
      "Name: CLICKS, dtype: float64\n"
     ]
    }
   ],
   "source": [
    "print df.groupby('country')['CLICKS'].mean()\n",
    "##seems like there is also some difference between CTR cross country"
   ]
  },
  {
   "cell_type": "markdown",
   "metadata": {},
   "source": [
    "**2. counrty and clicks : some strong evidences showing difference between countries**"
   ]
  },
  {
   "cell_type": "code",
   "execution_count": 181,
   "metadata": {
    "collapsed": false
   },
   "outputs": [
    {
     "name": "stdout",
     "output_type": "stream",
     "text": [
      "guaranteed_brand_safe\n",
      "0    0.354991\n",
      "1    0.208065\n",
      "Name: CLICKS, dtype: float64\n"
     ]
    }
   ],
   "source": [
    "print df.groupby('guaranteed_brand_safe')['CLICKS'].mean()\n",
    "#I wouldn't say there is big difference... "
   ]
  },
  {
   "cell_type": "markdown",
   "metadata": {},
   "source": [
    "**3. brand safe and clicks : there's small differnce **"
   ]
  },
  {
   "cell_type": "code",
   "execution_count": 182,
   "metadata": {
    "collapsed": false
   },
   "outputs": [
    {
     "name": "stdout",
     "output_type": "stream",
     "text": [
      "location_type\n",
      "below the post    0.280809\n",
      "gallery           0.203320\n",
      "in-feed           0.208759\n",
      "mid-post          0.368070\n",
      "other             0.185260\n",
      "Name: CLICKS, dtype: float64\n"
     ]
    }
   ],
   "source": [
    "print df.groupby('location_type')['CLICKS'].mean()\n",
    "##We can see that there's definitely differnce here "
   ]
  },
  {
   "cell_type": "markdown",
   "metadata": {},
   "source": [
    "**4. location_type and clicks : there's a decent difference might help the model **"
   ]
  },
  {
   "cell_type": "code",
   "execution_count": 183,
   "metadata": {
    "collapsed": false
   },
   "outputs": [
    {
     "name": "stdout",
     "output_type": "stream",
     "text": [
      "layout_type\n",
      "multiple           0.163374\n",
      "multiple_manual    0.336830\n",
      "single             0.235386\n",
      "Name: CLICKS, dtype: float64\n"
     ]
    }
   ],
   "source": [
    "print df.groupby('layout_type')['CLICKS'].mean()\n",
    "##The layout doesn't mean that big difference "
   ]
  },
  {
   "cell_type": "markdown",
   "metadata": {},
   "source": [
    "**5. location_type and clicks : there's a decent difference might help the model**\n",
    "\n",
    "\n",
    "**So, I am going to include device category, counrty, location_type and layout_type into features for the model. And besides of the categorical variabls, total_impression_requests, filled_pages and visible_impression will also be included in the model.**\n",
    "\n",
    "Modeling \n",
    "----------------\n",
    "1. Split the dataset  \n",
    "2. Set dummy variables for categorical variables\n",
    "3. Fit the model and check model performance\n",
    "4. Using the model to predict the test data and obtain test error \n",
    "5. Model cross-validation "
   ]
  },
  {
   "cell_type": "code",
   "execution_count": 188,
   "metadata": {
    "collapsed": false
   },
   "outputs": [],
   "source": [
    "##Spilting the data\n",
    "msk = np.random.rand(len(df)) < 0.8\n",
    "train = df[msk]\n",
    "test = df[~msk]"
   ]
  },
  {
   "cell_type": "markdown",
   "metadata": {},
   "source": [
    "+ Spliting the data randomly\n",
    "  - 80% training data \n",
    "  - 20% testing "
   ]
  },
  {
   "cell_type": "code",
   "execution_count": 207,
   "metadata": {
    "collapsed": false
   },
   "outputs": [],
   "source": [
    "y, X = dmatrices('CLICKS ~ total_impression_requests + filled_pages + visible_impressions + C(country) + C(device_category) + \\\n",
    "                    C(location_type) + C(layout_type)',df, return_type=\"dataframe\")\n",
    "# train_y, train_X = dmatrices('CLICKS ~ total_impression_requests + filled_pages + visible_impressions + C(country) + C(device_category) + \\\n",
    "#                     C(location_type) + C(layout_type)',train, return_type=\"dataframe\")\n",
    "# test_y, test_X = dmatrices('CLICKS ~ total_impression_requests + filled_pages + visible_impressions + C(country) + C(device_category) + \\\n",
    "#                     C(location_type) + C(layout_type)',test, return_type=\"dataframe\")"
   ]
  },
  {
   "cell_type": "markdown",
   "metadata": {},
   "source": [
    "+ Dummy Variables\n",
    "  - create dummy variables for all the categorical variabls and put back to the data frame\n",
    "  - following is what it looks like after creating dummy variables"
   ]
  },
  {
   "cell_type": "code",
   "execution_count": 192,
   "metadata": {
    "collapsed": false
   },
   "outputs": [
    {
     "data": {
      "text/html": [
       "<div>\n",
       "<table border=\"1\" class=\"dataframe\">\n",
       "  <thead>\n",
       "    <tr style=\"text-align: right;\">\n",
       "      <th></th>\n",
       "      <th>Intercept</th>\n",
       "      <th>C(country)[T.BE]</th>\n",
       "      <th>C(country)[T.CA]</th>\n",
       "      <th>C(country)[T.DE]</th>\n",
       "      <th>C(country)[T.ES]</th>\n",
       "      <th>C(country)[T.FI]</th>\n",
       "      <th>C(country)[T.FR]</th>\n",
       "      <th>C(country)[T.GB]</th>\n",
       "      <th>C(country)[T.IT]</th>\n",
       "      <th>C(country)[T.US]</th>\n",
       "      <th>...</th>\n",
       "      <th>C(device_category)[T.Tablet]</th>\n",
       "      <th>C(location_type)[T.gallery]</th>\n",
       "      <th>C(location_type)[T.in-feed]</th>\n",
       "      <th>C(location_type)[T.mid-post]</th>\n",
       "      <th>C(location_type)[T.other]</th>\n",
       "      <th>C(layout_type)[T.multiple_manual]</th>\n",
       "      <th>C(layout_type)[T.single]</th>\n",
       "      <th>total_impression_requests</th>\n",
       "      <th>filled_pages</th>\n",
       "      <th>visible_impressions</th>\n",
       "    </tr>\n",
       "  </thead>\n",
       "  <tbody>\n",
       "    <tr>\n",
       "      <th>0</th>\n",
       "      <td>1.0</td>\n",
       "      <td>0.0</td>\n",
       "      <td>0.0</td>\n",
       "      <td>0.0</td>\n",
       "      <td>0.0</td>\n",
       "      <td>0.0</td>\n",
       "      <td>0.0</td>\n",
       "      <td>0.0</td>\n",
       "      <td>0.0</td>\n",
       "      <td>1.0</td>\n",
       "      <td>...</td>\n",
       "      <td>0.0</td>\n",
       "      <td>0.0</td>\n",
       "      <td>0.0</td>\n",
       "      <td>0.0</td>\n",
       "      <td>0.0</td>\n",
       "      <td>0.0</td>\n",
       "      <td>1.0</td>\n",
       "      <td>284.0</td>\n",
       "      <td>1.0</td>\n",
       "      <td>1.0</td>\n",
       "    </tr>\n",
       "  </tbody>\n",
       "</table>\n",
       "<p>1 rows × 21 columns</p>\n",
       "</div>"
      ],
      "text/plain": [
       "   Intercept  C(country)[T.BE]  C(country)[T.CA]  C(country)[T.DE]  \\\n",
       "0        1.0               0.0               0.0               0.0   \n",
       "\n",
       "   C(country)[T.ES]  C(country)[T.FI]  C(country)[T.FR]  C(country)[T.GB]  \\\n",
       "0               0.0               0.0               0.0               0.0   \n",
       "\n",
       "   C(country)[T.IT]  C(country)[T.US]         ...           \\\n",
       "0               0.0               1.0         ...            \n",
       "\n",
       "   C(device_category)[T.Tablet]  C(location_type)[T.gallery]  \\\n",
       "0                           0.0                          0.0   \n",
       "\n",
       "   C(location_type)[T.in-feed]  C(location_type)[T.mid-post]  \\\n",
       "0                          0.0                           0.0   \n",
       "\n",
       "   C(location_type)[T.other]  C(layout_type)[T.multiple_manual]  \\\n",
       "0                        0.0                                0.0   \n",
       "\n",
       "   C(layout_type)[T.single]  total_impression_requests  filled_pages  \\\n",
       "0                       1.0                      284.0           1.0   \n",
       "\n",
       "   visible_impressions  \n",
       "0                  1.0  \n",
       "\n",
       "[1 rows x 21 columns]"
      ]
     },
     "execution_count": 192,
     "metadata": {},
     "output_type": "execute_result"
    }
   ],
   "source": [
    "train_X.head(1)"
   ]
  },
  {
   "cell_type": "code",
   "execution_count": 211,
   "metadata": {
    "collapsed": true
   },
   "outputs": [],
   "source": [
    "train_y = np.ravel(train_y)\n",
    "y = np.ravel(y)"
   ]
  },
  {
   "cell_type": "markdown",
   "metadata": {},
   "source": [
    "- transform target variable into an array in order to fit into model next step"
   ]
  },
  {
   "cell_type": "code",
   "execution_count": 195,
   "metadata": {
    "collapsed": false
   },
   "outputs": [
    {
     "data": {
      "text/plain": [
       "0.88987836499572881"
      ]
     },
     "execution_count": 195,
     "metadata": {},
     "output_type": "execute_result"
    }
   ],
   "source": [
    "model = LogisticRegression()\n",
    "model = model.fit(train_X, train_y)\n",
    "print model.score(train_X, train_y)"
   ]
  },
  {
   "cell_type": "markdown",
   "metadata": {},
   "source": [
    "- **0.8898** is the accuracy on the training set. It's good, but we want to know the **prediction power** of the model"
   ]
  },
  {
   "cell_type": "code",
   "execution_count": 196,
   "metadata": {
    "collapsed": true
   },
   "outputs": [],
   "source": [
    "predicted = model.predict(test_X)\n",
    "probs = model.predict_proba(test_X)"
   ]
  },
  {
   "cell_type": "markdown",
   "metadata": {},
   "source": [
    "Result\n",
    "--------\n",
    "\n",
    "- We got 89% accuracy predicting click =0 and 91% accuracy predicting click =1\n",
    "\n",
    "| Target value  | predicted 0| predicted 1 | Precision |\n",
    "| ------------- |:-------------:|:-----------:|\n",
    "|       0       | 24976 |  471  |   0.89    |\n",
    "|       1       | 3111  | 4647  |   0.91    |\n",
    "\n",
    "- It seems like a very pleasant result, However, we still want to run a cross-validation to make sure this result is not just happen to happen"
   ]
  },
  {
   "cell_type": "code",
   "execution_count": 198,
   "metadata": {
    "collapsed": false,
    "scrolled": true
   },
   "outputs": [
    {
     "name": "stdout",
     "output_type": "stream",
     "text": [
      "[[24976   471]\n",
      " [ 3111  4647]]\n",
      "             precision    recall  f1-score   support\n",
      "\n",
      "        0.0       0.89      0.98      0.93     25447\n",
      "        1.0       0.91      0.60      0.72      7758\n",
      "\n",
      "avg / total       0.89      0.89      0.88     33205\n",
      "\n"
     ]
    }
   ],
   "source": [
    "metrics.confusion_matrix(test_y, predicted)\n",
    "metrics.classification_report(test_y, predicted)"
   ]
  },
  {
   "cell_type": "markdown",
   "metadata": {},
   "source": [
    "**The cross validation I picked here is 10-fold cross-validation**\n",
    "\n",
    "In 10-fold cross-validation, the original sample is randomly partitioned into 10 equal size subsamples. Of the 10 subsamples, a single subsample is retained as the validation data for testing the model, and the remaining 10-1 subsamples are used as training data. The cross-validation process is then repeated 10 times (the folds), with each of the 10 subsamples used exactly once as the validation data. The 10 results from the folds can then be averaged (or otherwise combined) to produce a single estimation. The advantage of this method is that all observations are used for both training and validation, and each observation is used for validation exactly once.\n",
    "- source : http://www.openml.org/a/estimation-procedures/1"
   ]
  },
  {
   "cell_type": "code",
   "execution_count": 213,
   "metadata": {
    "collapsed": false
   },
   "outputs": [
    {
     "name": "stdout",
     "output_type": "stream",
     "text": [
      "     CV    scores\n",
      "0   cv1  0.888399\n",
      "1   cv2  0.889728\n",
      "2   cv3  0.891843\n",
      "3   cv4  0.891951\n",
      "4   cv5  0.889292\n",
      "5   cv6  0.890319\n",
      "6   cv7  0.889292\n",
      "7   cv8  0.886331\n",
      "8   cv9  0.889956\n",
      "9  cv10  0.894368\n"
     ]
    }
   ],
   "source": [
    "# evaluate the model using 10-fold cross-validation\n",
    "scores = cross_val_score(LogisticRegression(), X, y, scoring='accuracy', cv=10)\n",
    "table = {'CV': ['cv1','cv2','cv3','cv4','cv5','cv6','cv7','cv8','cv9','cv10'],'scores': scores }\n",
    "print pd.DataFrame(table)"
   ]
  },
  {
   "cell_type": "markdown",
   "metadata": {},
   "source": [
    "Conclusion \n",
    "==============\n",
    "\n",
    "**Given the logistic model, we were able to predict if an placement(ad slot) will be clicked or not in around 88% accurary. This gives us a lot of information, for instance, those ad slot that have higher chances to be clicked have higher value to ad slot that don't.**"
   ]
  }
 ],
 "metadata": {
  "kernelspec": {
   "display_name": "Python 2",
   "language": "python",
   "name": "python2"
  },
  "language_info": {
   "codemirror_mode": {
    "name": "ipython",
    "version": 2
   },
   "file_extension": ".py",
   "mimetype": "text/x-python",
   "name": "python",
   "nbconvert_exporter": "python",
   "pygments_lexer": "ipython2",
   "version": "2.7.11"
  }
 },
 "nbformat": 4,
 "nbformat_minor": 0
}
